{
 "cells": [
  {
   "cell_type": "code",
   "execution_count": 124,
   "metadata": {},
   "outputs": [],
   "source": [
    "import struct\n",
    "import numpy as np\n",
    "import pandas as pd\n",
    "from matplotlib import pyplot as plt"
   ]
  },
  {
   "cell_type": "code",
   "execution_count": 125,
   "metadata": {},
   "outputs": [],
   "source": [
    "import os\n",
    "# lead training data\n",
    "def load_mnist():\n",
    "    \"\"\"Load MNIST data\"\"\"\n",
    "    labels_path = os.path.join('train-labels-idx1-ubyte')\n",
    "    images_path = os.path.join('train-images-idx3-ubyte')\n",
    "    \n",
    "    with open(labels_path, 'rb') as lbpath:\n",
    "        magic, n = struct.unpack('>II',lbpath.read(8))\n",
    "        labels = np.fromfile(lbpath,dtype=np.uint8)\n",
    "        \n",
    "    with open(images_path, 'rb') as imgpath:\n",
    "        magic, num, rows, cols = struct.unpack('>IIII',imgpath.read(16))\n",
    "        images = np.fromfile(imgpath,dtype=np.uint8).reshape(len(labels), 784)# each row represents a image\n",
    "\n",
    "    return images, labels\n",
    "\n",
    "X_train, y_train = load_mnist()\n",
    "X_train = X_train.astype(float)\n",
    "y_train = y_train.astype(float)"
   ]
  },
  {
   "cell_type": "code",
   "execution_count": 126,
   "metadata": {},
   "outputs": [
    {
     "data": {
      "text/plain": [
       "(60000, 784)"
      ]
     },
     "execution_count": 126,
     "metadata": {},
     "output_type": "execute_result"
    }
   ],
   "source": [
    "X_train.shape"
   ]
  },
  {
   "cell_type": "code",
   "execution_count": 127,
   "metadata": {},
   "outputs": [
    {
     "data": {
      "text/plain": [
       "array([  0.,   0.,   0.,   0.,   0.,   0.,   0.,   0.,   0.,   0.,   0.,\n",
       "         0.,   0.,   0.,   0.,   0.,   0.,   0.,   0.,   0.,   0.,   0.,\n",
       "         0.,   0.,   0.,   0.,   0.,   0.,   0.,   0.,   0.,   0.,   0.,\n",
       "         0.,   0.,   0.,   0.,   0.,   0.,   0.,   0.,   0.,   0.,   0.,\n",
       "         0.,   0.,   0.,   0.,   0.,   0.,   0.,   0.,   0.,   0.,   0.,\n",
       "         0.,   0.,   0.,   0.,   0.,   0.,   0.,   0.,   0.,   0.,   0.,\n",
       "         0.,   0.,   0.,   0.,   0.,   0.,   0.,   0.,   0.,   0.,   0.,\n",
       "         0.,   0.,   0.,   0.,   0.,   0.,   0.,   0.,   0.,   0.,   0.,\n",
       "         0.,   0.,   0.,   0.,   0.,   0.,   0.,   0.,   0.,   0.,   0.,\n",
       "         0.,   0.,   0.,   0.,   0.,   0.,   0.,   0.,   0.,   0.,   0.,\n",
       "         0.,   0.,   0.,   0.,   0.,   0.,   0.,   0.,   0.,   0.,   0.,\n",
       "         0.,   0.,   0.,   0.,   0.,   0.,   0.,   0.,   0.,   0.,   0.,\n",
       "         0.,   0.,   0.,   0.,   0.,   0.,   0.,   0.,   0.,   0.,   0.,\n",
       "         0.,   0.,   0.,   0.,   0.,   0.,   0.,   0.,   3.,  18.,  18.,\n",
       "        18., 126., 136., 175.,  26., 166., 255., 247., 127.,   0.,   0.,\n",
       "         0.,   0.,   0.,   0.,   0.,   0.,   0.,   0.,   0.,   0.,  30.,\n",
       "        36.,  94., 154., 170., 253., 253., 253., 253., 253., 225., 172.,\n",
       "       253., 242., 195.,  64.,   0.,   0.,   0.,   0.,   0.,   0.,   0.,\n",
       "         0.])"
      ]
     },
     "execution_count": 127,
     "metadata": {},
     "output_type": "execute_result"
    }
   ],
   "source": [
    "X_train[0,1:200]"
   ]
  },
  {
   "cell_type": "code",
   "execution_count": 128,
   "metadata": {},
   "outputs": [
    {
     "data": {
      "text/plain": [
       "(60000,)"
      ]
     },
     "execution_count": 128,
     "metadata": {},
     "output_type": "execute_result"
    }
   ],
   "source": [
    "y_train.shape"
   ]
  },
  {
   "cell_type": "code",
   "execution_count": 129,
   "metadata": {},
   "outputs": [
    {
     "data": {
      "text/plain": [
       "array([5., 0., 4., 1., 9., 2., 1., 3., 1., 4.])"
      ]
     },
     "execution_count": 129,
     "metadata": {},
     "output_type": "execute_result"
    }
   ],
   "source": [
    "y_train[0:10]"
   ]
  },
  {
   "cell_type": "code",
   "execution_count": 130,
   "metadata": {},
   "outputs": [
    {
     "data": {
      "text/plain": [
       "(10000, 784)"
      ]
     },
     "execution_count": 130,
     "metadata": {},
     "output_type": "execute_result"
    }
   ],
   "source": [
    "# load testing data\n",
    "def load_mnist():\n",
    "    \"\"\"Load MNIST data\"\"\"\n",
    "    labels_path = os.path.join('t10k-labels-idx1-ubyte')\n",
    "    images_path = os.path.join('t10k-images-idx3-ubyte')\n",
    "    \n",
    "    with open(labels_path, 'rb') as lbpath:\n",
    "        magic, n = struct.unpack('>II',lbpath.read(8))\n",
    "        labels = np.fromfile(lbpath,dtype=np.uint8)\n",
    "        \n",
    "    with open(images_path, 'rb') as imgpath:\n",
    "        magic, num, rows, cols = struct.unpack('>IIII',imgpath.read(16))\n",
    "        images = np.fromfile(imgpath,dtype=np.uint8).reshape(len(labels), 784)# each row represents a image\n",
    "\n",
    "    return images, labels\n",
    "\n",
    "X_test, y_test = load_mnist()\n",
    "X_train = X_train.astype(float)\n",
    "y_train = y_train.astype(float)\n",
    "X_test.shape"
   ]
  },
  {
   "cell_type": "code",
   "execution_count": 131,
   "metadata": {},
   "outputs": [
    {
     "data": {
      "text/plain": [
       "(11872,)"
      ]
     },
     "execution_count": 131,
     "metadata": {},
     "output_type": "execute_result"
    }
   ],
   "source": [
    "# export image with label 0 and label 9\n",
    "X_train = X_train[(y_train == 0) | (y_train == 9)]\n",
    "y_train = y_train[(y_train == 0) | (y_train == 9)]\n",
    "y = y_train.astype(float)\n",
    "y_train.shape"
   ]
  },
  {
   "cell_type": "code",
   "execution_count": 132,
   "metadata": {},
   "outputs": [
    {
     "data": {
      "text/plain": [
       "array([0., 9., 9., 0., 9., 9., 0., 0., 9., 9.])"
      ]
     },
     "execution_count": 132,
     "metadata": {},
     "output_type": "execute_result"
    }
   ],
   "source": [
    "y_train[0:10]"
   ]
  },
  {
   "cell_type": "code",
   "execution_count": 133,
   "metadata": {},
   "outputs": [],
   "source": [
    "X_test = X_test[(y_test == 0) | (y_test == 9)]\n",
    "y_test = y_test[(y_test == 0) | (y_test == 9)]\n",
    "y_test = y_test.astype(float)"
   ]
  },
  {
   "cell_type": "code",
   "execution_count": 134,
   "metadata": {},
   "outputs": [
    {
     "data": {
      "text/plain": [
       "array([0., 9., 9., 0., 9., 0., 9., 9., 0., 0.])"
      ]
     },
     "execution_count": 134,
     "metadata": {},
     "output_type": "execute_result"
    }
   ],
   "source": [
    "y_test[0:10]"
   ]
  },
  {
   "cell_type": "code",
   "execution_count": 135,
   "metadata": {},
   "outputs": [],
   "source": [
    "for i,k in enumerate(y_train):\n",
    "    if k == 9:\n",
    "        y_train[i]= 1\n",
    "    else:\n",
    "        y_train[i]= -1"
   ]
  },
  {
   "cell_type": "code",
   "execution_count": 136,
   "metadata": {},
   "outputs": [
    {
     "data": {
      "text/plain": [
       "array([-1.,  1.,  1., -1.,  1.,  1., -1., -1.,  1.,  1.])"
      ]
     },
     "execution_count": 136,
     "metadata": {},
     "output_type": "execute_result"
    }
   ],
   "source": [
    "y_train[0:10]"
   ]
  },
  {
   "cell_type": "code",
   "execution_count": 137,
   "metadata": {},
   "outputs": [],
   "source": [
    "for i,k in enumerate(y_test):\n",
    "    if k == 9:\n",
    "        y_test[i]= 1\n",
    "    else:\n",
    "        y_test[i]= -1"
   ]
  },
  {
   "cell_type": "code",
   "execution_count": 138,
   "metadata": {},
   "outputs": [
    {
     "data": {
      "text/plain": [
       "array([-1.,  1.,  1., -1.,  1., -1.,  1.,  1., -1., -1.])"
      ]
     },
     "execution_count": 138,
     "metadata": {},
     "output_type": "execute_result"
    }
   ],
   "source": [
    "y_test[0:10]"
   ]
  },
  {
   "cell_type": "code",
   "execution_count": 139,
   "metadata": {},
   "outputs": [],
   "source": [
    "import math"
   ]
  },
  {
   "cell_type": "code",
   "execution_count": 140,
   "metadata": {},
   "outputs": [],
   "source": [
    "## generate gaussian matrix\n",
    "def gen_gaussion(m):\n",
    "    k = m*n\n",
    "    s = np.random.normal(0, 1, k).reshape(m, n)\n",
    "    Gaussion = np.mat(s)\n",
    "    return Gaussion\n",
    "\n",
    "n = len(X_train[1,])\n",
    "m = int(n * math.log(n))\n",
    "Gau = gen_gaussion(m)"
   ]
  },
  {
   "cell_type": "code",
   "execution_count": 141,
   "metadata": {},
   "outputs": [],
   "source": [
    "# mapping X into a higher dimension\n",
    "def mapping(X):\n",
    "    X_matrix = np.transpose([np.mat(X)])\n",
    "    X_map = np.transpose(1/math.sqrt(m) * np.sign(Gau * X_matrix))\n",
    "    return X_map \n",
    "\n",
    "X_maptrain = mapping(X_train)\n",
    "X_maptest = mapping(X_test)"
   ]
  },
  {
   "cell_type": "code",
   "execution_count": 142,
   "metadata": {},
   "outputs": [
    {
     "data": {
      "text/plain": [
       "(11872, 5224)"
      ]
     },
     "execution_count": 142,
     "metadata": {},
     "output_type": "execute_result"
    }
   ],
   "source": [
    "X_maptrain.shape"
   ]
  },
  {
   "cell_type": "code",
   "execution_count": 170,
   "metadata": {},
   "outputs": [
    {
     "data": {
      "text/plain": [
       "array([[ 1.        , -0.26416539, -0.20788668, ...,  0.48621746,\n",
       "        -0.27565084, -0.25880551],\n",
       "       [-0.26416539,  1.        ,  0.39624809, ..., -0.14548239,\n",
       "         0.3085758 ,  0.30015314],\n",
       "       [-0.20788668,  0.39624809,  1.        , ..., -0.20635528,\n",
       "         0.39548239,  0.37557427],\n",
       "       ...,\n",
       "       [ 0.48621746, -0.14548239, -0.20635528, ...,  1.        ,\n",
       "        -0.22511485, -0.19831547],\n",
       "       [-0.27565084,  0.3085758 ,  0.39548239, ..., -0.22511485,\n",
       "         1.        ,  0.66845329],\n",
       "       [-0.25880551,  0.30015314,  0.37557427, ..., -0.19831547,\n",
       "         0.66845329,  1.        ]])"
      ]
     },
     "execution_count": 170,
     "metadata": {},
     "output_type": "execute_result"
    }
   ],
   "source": [
    "H"
   ]
  },
  {
   "cell_type": "code",
   "execution_count": 166,
   "metadata": {},
   "outputs": [],
   "source": [
    "# Generate matrix H for cvxopt\n",
    "X = X_maptrain\n",
    "y = y_train.reshape(-1, 1) * 1.\n",
    "i,j = X.shape\n",
    "X_dash = np.zeros(shape=(i,j))\n",
    "for t,item_y in enumerate(y):\n",
    "        X_dash[t,] = item_y * X[t,]\n",
    "        \n",
    "H = np.dot(X_dash , X_dash.T) * 1."
   ]
  },
  {
   "cell_type": "code",
   "execution_count": 171,
   "metadata": {},
   "outputs": [],
   "source": [
    "from cvxopt import matrix as cvxopt_matrix\n",
    "from cvxopt import solvers as cvxopt_solvers\n",
    "\n",
    "\n",
    "# Converting into cvxopt format\n",
    "P = cvxopt_matrix(H)\n",
    "q = cvxopt_matrix(-np.ones((i, 1)))\n",
    "G = cvxopt_matrix(-np.eye(i))\n",
    "h = cvxopt_matrix(np.zeros(i))\n",
    "A = cvxopt_matrix(y.reshape(1, -1))\n",
    "b = cvxopt_matrix(np.zeros(1))\n",
    "\n",
    "# Setting solver parameters (change default to decrease tolerance) \n",
    "cvxopt_solvers.options['show_progress'] = False\n",
    "cvxopt_solvers.options['abstol'] = 1e-10\n",
    "cvxopt_solvers.options['reltol'] = 1e-10\n",
    "cvxopt_solvers.options['feastol'] = 1e-10"
   ]
  },
  {
   "cell_type": "code",
   "execution_count": 172,
   "metadata": {},
   "outputs": [],
   "source": [
    "# Run solver\n",
    "sol = cvxopt_solvers.qp(P, q, G, h, A, b)\n",
    "alphas = np.array(sol['x'])"
   ]
  },
  {
   "cell_type": "code",
   "execution_count": 174,
   "metadata": {},
   "outputs": [
    {
     "name": "stdout",
     "output_type": "stream",
     "text": [
      "Alphas =  [7.61351677e+00 1.02275481e+00 1.46805091e+00 3.40658341e+00\n",
      " 6.41974494e+00 7.20572596e-01 4.91903679e-01 5.01280118e+00\n",
      " 1.22930437e+00 1.64492402e+00 4.53408698e+00 3.72702720e-01\n",
      " 7.32692904e-01 5.84518510e-01 1.33733895e+00 9.50338360e-01\n",
      " 4.51985432e-01 6.91491463e-01 7.38621491e-01 2.68594053e-01\n",
      " 7.09794959e-01 1.05307804e+00 2.69197861e+00 2.54563568e+00\n",
      " 5.29147242e-01 6.63706901e-03 2.96748061e-02 1.14095968e-01\n",
      " 2.14618328e+00 1.13773021e+00 1.11605932e+00 3.34810404e-01\n",
      " 1.18917920e-01 3.65265895e+00 4.83413227e-01 1.92446207e-01\n",
      " 8.82502015e-01 5.27066700e-01 2.74544945e+00 9.16673618e-01\n",
      " 2.64460631e+00 7.69329570e-01 2.03548186e-01 1.16979348e-01\n",
      " 6.13070542e-01 1.03603272e-01 7.27577312e-03 1.19608241e-01\n",
      " 1.33169600e+00 8.96934740e-01 9.16921994e-01 1.21201314e-01\n",
      " 7.48723688e-01 4.31707709e-01 7.70204386e-01 3.80980886e+00\n",
      " 1.36030005e-01 3.69190232e-02 6.21886655e-02 4.30103324e+00\n",
      " 3.44390324e-01 3.12373906e+00 3.28066667e-01 4.78519944e-01\n",
      " 1.06695785e+00 2.07954236e-01 1.71076709e+00 2.67513316e+00\n",
      " 8.45487584e-01 1.64735411e+00 1.24997052e+00 4.33907622e-01\n",
      " 7.98075972e-01 4.78669269e-01 1.84569610e+00 4.77590813e-02\n",
      " 1.34107261e+00 1.29982451e-01 4.07507369e-01 9.70818219e-01\n",
      " 1.86981182e+00 4.53184630e-02 4.93548567e-01 6.14168844e-01\n",
      " 4.77487354e-01 2.05737665e+00 2.57705987e+00 3.51216230e-01\n",
      " 1.32250974e+00 1.91643175e+00 1.11142568e+00 5.84280506e+00\n",
      " 1.78932031e+00 1.26064034e-01 7.34293255e-02 1.64138385e-01\n",
      " 1.05616495e+00 3.62123556e+00 2.90960568e+00 1.77757750e-01\n",
      " 3.16696884e+00 2.27420002e+00 5.27313215e-01 1.61241157e+00\n",
      " 2.27629805e-01 7.04999221e-01 7.13728386e-01 1.40914164e+00\n",
      " 7.88244233e-01 5.72723730e-01 6.22705471e-01 2.47371485e+00\n",
      " 8.33924579e-01 2.90960005e+00 8.36853300e-01 1.15550489e+00\n",
      " 9.48927718e-01 2.25671237e-02 1.38016372e-01 8.30282755e-01\n",
      " 5.31730091e+00 2.34236470e-01 1.23978603e+00 2.61392753e+00\n",
      " 2.87516381e+00 2.52844133e-01 1.46425213e+00 2.01953108e+00\n",
      " 6.82232776e-01 4.06848861e-01 6.63841531e-01 1.39578706e-02\n",
      " 2.22375330e+00 5.07847946e-01 6.32898207e-01 5.21316410e-01\n",
      " 3.11154414e+00 2.75102613e+00 6.00768215e-01 2.29790418e+00\n",
      " 2.46015631e-01 8.06853725e-01 1.71143706e-01 1.65292441e+00\n",
      " 3.72912592e-01 1.52658046e-01 1.29068346e+00 1.22527823e+00\n",
      " 1.23776700e-02 2.07108564e+00 2.05509579e+00 4.67257560e-01\n",
      " 7.84424351e-01 6.60539831e-01 1.51371706e+00 5.23666484e+00\n",
      " 2.01005141e+00 3.06363522e+00 8.75931016e-01 7.64910015e-01\n",
      " 2.72738951e+00 2.36398282e-01 2.41366430e-01 5.47569437e+00\n",
      " 1.66320768e+00 1.48884624e+00 6.95152019e-01 1.04080094e-01\n",
      " 2.87696168e-01 5.59573653e-01 4.12433954e+00 2.23171343e+00\n",
      " 6.59287738e-01 2.40208231e+00 4.42975153e-01 1.61303484e+00\n",
      " 9.00312177e-01 8.85648692e-01 1.62697043e+00 1.04899899e+00\n",
      " 5.13905310e-02 4.59993730e-01 3.47932534e-01 5.64618325e-01\n",
      " 2.22857538e+00 1.25939780e+00 1.00887884e+00 8.96957216e-02\n",
      " 2.59986303e+00 1.90015983e-01 6.07043928e+00 1.78264033e+00\n",
      " 4.37328913e+00 6.04541324e-02 3.09747655e+00 1.16953635e+00\n",
      " 4.60893323e-01 9.93936416e-01 1.57738926e-01 2.12735704e-01\n",
      " 4.47014947e+00 1.63208708e+00 1.16405840e+00 2.30134054e+00\n",
      " 8.34100165e-01 3.15706328e-01 2.75497277e+00 1.92924574e+00\n",
      " 8.18422272e-01 3.79172860e-01 1.89563371e-01 1.80072839e-02\n",
      " 8.80023028e-01 1.56631205e+00 3.03934550e+00 8.35726222e-01\n",
      " 1.73401622e+00 2.26395494e+00 2.87980686e+00 2.59593093e+00\n",
      " 4.41106977e-01 1.69087371e+00 5.27225905e-03 5.16677061e-01\n",
      " 1.88689342e-01 2.79014516e-01 7.75753625e-01 1.97001364e+00\n",
      " 6.62008777e-01 1.81614204e+00 1.27558454e-02 5.94486080e+00\n",
      " 3.77815641e+00 2.96184934e-01 1.06050670e+00 9.61221105e-01\n",
      " 2.24179986e-02 5.79819882e-01 1.02352773e-01 2.19354508e-01\n",
      " 2.62123222e-01 6.56493228e-01 1.96728215e+00 1.89054925e-01\n",
      " 5.39422012e+00 9.73808185e-01 4.85349196e-01 3.73628934e-01\n",
      " 1.57490837e+00 1.33522118e-01 1.14850573e+00 3.06084862e-01\n",
      " 9.72077623e-01 2.39115313e+00 2.11499910e+00 8.52529304e-01\n",
      " 4.40681213e+00 6.93417154e-01 6.53516367e-01 2.25610411e+00\n",
      " 2.28855491e-01 2.53809997e+00 2.18361240e+00 1.99298922e-01\n",
      " 1.54381472e+00 5.76870187e-01 1.15186564e+00 4.02790699e-01\n",
      " 3.14371345e+00 8.21880952e-01 1.02206003e+00 1.74974978e+00\n",
      " 1.34399720e-01 6.53115875e-01 6.01412324e-01 1.74921545e+00\n",
      " 4.81937109e-01 7.92622176e-02 3.80406775e-01 4.44018597e-01\n",
      " 4.71910008e-01 9.25726388e-01 8.70509400e-02 3.38006537e-01\n",
      " 5.97130848e-01 4.16905969e+00 3.23190853e-01 5.72038678e-01\n",
      " 1.27541878e+00 5.52521205e-01 2.48729272e-01 2.30215334e+00\n",
      " 2.20160588e-01 1.17860860e+00 2.94693933e-01 1.36910200e+00\n",
      " 9.33656566e-01 4.42484215e+00 3.51406639e-01 3.89783336e-01\n",
      " 1.68859259e+00 1.39027557e-01 2.78917239e-01 1.97662939e-01\n",
      " 2.52695626e+00 1.77115174e+00 5.02229616e-01 1.24680800e+00\n",
      " 2.84178370e+00 1.25287013e+00 1.48927342e+00 2.74464969e-01\n",
      " 6.45856842e-01 1.37883371e+00 2.03033903e-01 5.39293552e-02\n",
      " 6.83958197e-01 1.94813157e+00 9.04512628e-01 2.54187317e-02\n",
      " 1.48494653e+00 4.06709232e-02 1.64287116e+00 2.11559040e+00\n",
      " 5.45703728e-01 3.37274232e-01 8.09095814e-01 2.49941712e+00\n",
      " 9.48748301e-01 8.97862157e-01 1.61462716e-02 7.91926958e-04\n",
      " 7.64738569e-01 2.33542320e+00 7.34619495e-01 1.11010612e+00\n",
      " 1.33468386e+00 1.07009411e+00 7.94366106e-01 2.92950450e-01\n",
      " 3.58715001e-01 2.61438244e+00 1.44533600e+00 7.77443007e-01\n",
      " 5.92994911e-01 1.27713749e-01 1.47397945e+00 1.58027659e+00\n",
      " 2.90277709e+00 3.81806671e+00 8.09482815e-01 1.11135462e+00\n",
      " 3.90864429e+00 8.01609985e-01 3.21821425e-01 9.58979953e-01\n",
      " 1.44409009e+00 1.88701921e+00 9.63231463e-01 2.12033720e+00\n",
      " 1.98382404e-01 7.83490157e-02 1.77351546e+00 1.19504317e-02\n",
      " 8.82477981e-01 4.40921276e-01 1.52522518e+00 7.02935051e-01\n",
      " 1.49462909e-01 1.07081081e+00 1.80440283e-01 1.54740436e+00\n",
      " 1.26160103e+00 3.78112226e-01 5.20511264e-01 1.59303102e-01\n",
      " 2.48110985e+00 1.80585747e+00 2.07832720e-01 3.78642331e+00\n",
      " 8.58931064e-01 2.96432016e+00 1.28940799e-02 3.40207970e-01\n",
      " 1.58257542e+00 7.79391032e-01 1.23548688e+00 5.08267875e-01\n",
      " 2.25450705e+00 1.41006975e+00 6.02311019e-01 2.33063713e-01\n",
      " 1.58596168e+00 1.42648837e-01 1.49745430e-02 1.68741332e+00\n",
      " 6.37178163e-01 2.75956938e-01 7.65422786e-01 1.10691523e+00\n",
      " 8.99169577e-01 1.07015207e+00 7.57501571e-01 1.20250863e+00\n",
      " 3.86786809e-01 5.41084672e-01 4.68962557e-01 1.99932011e+00\n",
      " 2.13559643e+00 1.87361232e-01 3.44633196e-01 4.56763192e+00\n",
      " 1.08135859e-01 1.12212499e-01 1.18442464e-01 7.89526576e+00\n",
      " 1.58677505e-01 4.59402668e-01 3.34521709e-01 5.09153787e-01\n",
      " 5.95913292e-01 1.33863509e+00 1.50706220e+00 1.30818187e+00\n",
      " 6.09540341e+00 5.34152167e-02 1.22726570e-01 2.40780580e-01\n",
      " 4.98015274e-01 1.07179482e+00 5.45387485e+00 4.40570256e-01\n",
      " 2.34248429e+00 9.37925346e-02 1.21311100e+00 9.56883535e-02\n",
      " 5.97580653e-01 7.93799298e-01 9.74424033e-01 1.73130561e+00\n",
      " 5.20748694e-01 3.41464665e-01 1.62057660e+00 3.18949104e-01\n",
      " 1.10113432e-01 7.09213349e-01 7.20967976e+00 1.35523545e+00\n",
      " 2.94850566e+00 4.42870926e-01 2.36570547e-01 1.78492641e+00\n",
      " 2.82405241e-01 5.32822019e+00 2.04402356e-01 1.27507732e+00\n",
      " 1.02097398e+00 6.80376531e-01 9.27810431e-01 6.46791294e-01\n",
      " 1.60887973e+00 3.18848277e+00 3.33156933e+00 6.59696394e-01\n",
      " 1.92715723e+00 2.67893555e+00 2.36945060e-01 3.80695161e-01\n",
      " 5.63760385e+00 9.42391311e-01 2.40530719e-01 1.00154751e+00\n",
      " 1.79799302e+00 7.42641647e-01 1.85903011e+00 9.67124078e-01\n",
      " 1.78802654e+00 1.09525317e-01 6.11988568e-02 4.26795305e-01\n",
      " 8.27627669e-01 6.32748210e-01 2.01054064e+00 8.81834782e-01\n",
      " 1.79420342e-01 3.85779925e-01 2.19832043e-01 1.34181395e+00\n",
      " 2.36787871e-01 1.21154677e+00 2.25512905e+00 3.17374230e+00\n",
      " 3.80607856e+00 1.19282455e+00 9.61408453e-01 7.42830419e-01\n",
      " 4.33011917e+00 1.25620260e+00 8.88342248e-01 2.95614702e-01\n",
      " 4.31852680e-01 2.78600422e+00 2.59640036e+00 3.60859388e+00\n",
      " 5.09016113e-01 6.86822962e-01 1.61349654e+00 1.49379573e+00\n",
      " 9.77767095e-01 3.47460861e-01 1.16494663e+00 1.48689597e-01\n",
      " 2.28227100e-01 3.54302049e+00 6.16062294e-01 5.90956989e-01\n",
      " 1.74684934e+00 1.62266732e-01 8.19587928e-01 5.23595168e+00\n",
      " 6.73337311e-01 2.83109231e+00 2.82233971e-01 1.13596493e+00\n",
      " 3.11049799e-02]\n",
      "w =  [[-0.54754025 -0.14135078  0.01271224 ...  0.36775966  0.41864355\n",
      "  -0.21398857]]\n",
      "b =  [[0.29968083]]\n"
     ]
    }
   ],
   "source": [
    "# w parameter in vectorized form\n",
    "w = ((y * alphas).T @ X).reshape(-1,1)\n",
    "\n",
    "# Selecting the set of indices S corresponding to non zero parameters\n",
    "S = (alphas > 1e-4).flatten()\n",
    "\n",
    "# Computing b\n",
    "b = y[S] - np.dot(X[S], w)\n",
    "\n",
    "# Display results\n",
    "print('Alphas = ',alphas[alphas > 1e-4])\n",
    "print('w = ', w.flatten())\n",
    "print('b = ', b[0])"
   ]
  },
  {
   "cell_type": "code",
   "execution_count": 175,
   "metadata": {},
   "outputs": [
    {
     "name": "stdout",
     "output_type": "stream",
     "text": [
      "(5224, 1)\n"
     ]
    }
   ],
   "source": [
    "print(w.shape)"
   ]
  },
  {
   "cell_type": "code",
   "execution_count": 187,
   "metadata": {},
   "outputs": [
    {
     "data": {
      "text/plain": [
       "9"
      ]
     },
     "execution_count": 187,
     "metadata": {},
     "output_type": "execute_result"
    }
   ],
   "source": [
    "# test our svm algorithm\n",
    "error = 0\n",
    "y_test = y_test.reshape(-1, 1) * 1.\n",
    "for i,k in enumerate(X_maptest):\n",
    "    y_pred = np.dot(w.T, np.array(k.T))+b[0]\n",
    "    if y_pred * y_test[i] < 0:\n",
    "        error += 1\n",
    "error"
   ]
  },
  {
   "cell_type": "code",
   "execution_count": 189,
   "metadata": {},
   "outputs": [
    {
     "data": {
      "text/plain": [
       "0.995475113122172"
      ]
     },
     "execution_count": 189,
     "metadata": {},
     "output_type": "execute_result"
    }
   ],
   "source": [
    "accuracy_rate = 1 - error / len(y_test)\n",
    "accuracy_rate"
   ]
  },
  {
   "cell_type": "code",
   "execution_count": 190,
   "metadata": {},
   "outputs": [
    {
     "data": {
      "text/plain": [
       "1989"
      ]
     },
     "execution_count": 190,
     "metadata": {},
     "output_type": "execute_result"
    }
   ],
   "source": [
    "len(y_test)"
   ]
  },
  {
   "cell_type": "code",
   "execution_count": null,
   "metadata": {},
   "outputs": [],
   "source": [
    "# reference for cvxopt: https://xavierbourretsicotte.github.io/SVM_implementation.html\n",
    "# SVM 中文解释： https://wizardforcel.gitbooks.io/dm-algo-top10/content/svm-3.html"
   ]
  }
 ],
 "metadata": {
  "kernelspec": {
   "display_name": "Python 3",
   "language": "python",
   "name": "python3"
  },
  "language_info": {
   "codemirror_mode": {
    "name": "ipython",
    "version": 3
   },
   "file_extension": ".py",
   "mimetype": "text/x-python",
   "name": "python",
   "nbconvert_exporter": "python",
   "pygments_lexer": "ipython3",
   "version": "3.6.4"
  }
 },
 "nbformat": 4,
 "nbformat_minor": 2
}
